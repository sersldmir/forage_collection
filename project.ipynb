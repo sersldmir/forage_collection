{
 "cells": [
  {
   "cell_type": "markdown",
   "metadata": {},
   "source": [
    "# Project for BSG"
   ]
  },
  {
   "cell_type": "markdown",
   "metadata": {},
   "source": [
    "## Briefing\n",
    "\n",
    "<u>**Context**</u>: The client is Power Co, a major gas and electricity utility, and they experience a huge customer churn. In other words, clients stop having business with the company due to power-liberalization of the energy market in Europe, which costs them large chunks of revenues. \n",
    "\n",
    "<u>**Data Science Task**</u>: The data science task is to test our client’s hypothesis that the problem is driven by price sensitivity and that a 20% discount will be effective.\n",
    "\n",
    "<u>**Data requirements**</u>: The data must contain customer data, especially the price they are paying for the services. Also it will be great if the data has some sort of a binary outcome, whether people stayed with our client or not. Other info is not particularly necessary but will definitely be beneficial.\n",
    "\n"
   ]
  },
  {
   "cell_type": "markdown",
   "metadata": {},
   "source": []
  }
 ],
 "metadata": {
  "kernelspec": {
   "display_name": "base",
   "language": "python",
   "name": "python3"
  },
  "language_info": {
   "name": "python",
   "version": "3.10.9"
  },
  "orig_nbformat": 4
 },
 "nbformat": 4,
 "nbformat_minor": 2
}
